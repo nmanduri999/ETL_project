{
 "cells": [
  {
   "cell_type": "code",
   "execution_count": 4,
   "metadata": {},
   "outputs": [],
   "source": [
    "import requests\n",
    "r = requests.get('https://www.nytimes.com/interactive/2020/us/coronavirus-us-cases.html')"
   ]
  },
  {
   "cell_type": "code",
   "execution_count": 5,
   "metadata": {},
   "outputs": [
    {
     "name": "stdout",
     "output_type": "stream",
     "text": [
      "<!DOCTYPE html>\n",
      "<html lang=\"en\" class=\"nytapp-vi-interactive\" xmlns:og=\"http://opengraphprotocol.org/schema/\">\n",
      "  <head>\n",
      "    <title data-rh=\"true\">Coronavirus in the U.S.: Latest Map and Case Count - The New York Times</title>\n",
      "    <meta data-rh=\"true\" property=\"article:published\" content=\"2020-03-03T23:25:01.000Z\"/><meta data-rh=\"true\" property=\"article:modified\" content=\"2020-05-26T12:42:05.542Z\"/><meta data-rh=\"true\" http-equiv=\"Content-Language\" content=\"en\"/><meta data-rh=\"true\" name=\"robots\"\n"
     ]
    }
   ],
   "source": [
    "#print the first 500 characters of html\n",
    "print (r.text[0:500])"
   ]
  },
  {
   "cell_type": "code",
   "execution_count": 6,
   "metadata": {},
   "outputs": [],
   "source": [
    "from bs4 import BeautifulSoup\n",
    "soup = BeautifulSoup(r.text, 'html.parser')"
   ]
  },
  {
   "cell_type": "code",
   "execution_count": 9,
   "metadata": {},
   "outputs": [],
   "source": [
    "# results = soup.find_all('div', attrs={'class':'g-story g-freebird g-max-limit'})\n",
    "results = soup.find_all('tbody', attrs={'class':'top-level'})"
   ]
  },
  {
   "cell_type": "code",
   "execution_count": 10,
   "metadata": {},
   "outputs": [
    {
     "data": {
      "text/plain": [
       "30"
      ]
     },
     "execution_count": 10,
     "metadata": {},
     "output_type": "execute_result"
    }
   ],
   "source": [
    "len(results)"
   ]
  },
  {
   "cell_type": "code",
   "execution_count": 22,
   "metadata": {},
   "outputs": [
    {
     "data": {
      "text/plain": [
       "<tbody class=\"top-level\" id=\"tr-g-9-0\" role=\"rowgroup\">\n",
       "<tr class=\"svelte-3syfts\" on=\"tap:tr-g-9-0.toggleClass('class' = 'show-hid')\" role=\"row\" tabindex=\"90\">\n",
       "<td class=\"text small full-width svelte-3syfts\">\n",
       "<span>Harris County jail — Houston, Texas</span>\n",
       "</td><td class=\"num small svelte-3syfts\">\n",
       "<span>947</span>\n",
       "</td>\n",
       "</tr>\n",
       "</tbody>"
      ]
     },
     "execution_count": 22,
     "metadata": {},
     "output_type": "execute_result"
    }
   ],
   "source": [
    "results[-1]"
   ]
  },
  {
   "cell_type": "code",
   "execution_count": 21,
   "metadata": {},
   "outputs": [
    {
     "data": {
      "text/plain": [
       "<tbody class=\"top-level\" id=\"tr-g-9-0\" role=\"rowgroup\">\n",
       "<tr class=\"svelte-3syfts\" on=\"tap:tr-g-9-0.toggleClass('class' = 'show-hid')\" role=\"row\" tabindex=\"90\">\n",
       "<td class=\"text small full-width svelte-3syfts\">\n",
       "<span>Harris County jail — Houston, Texas</span>\n",
       "</td><td class=\"num small svelte-3syfts\">\n",
       "<span>947</span>\n",
       "</td>\n",
       "</tr>\n",
       "</tbody>"
      ]
     },
     "execution_count": 21,
     "metadata": {},
     "output_type": "execute_result"
    }
   ],
   "source": [
    "results[-1]"
   ]
  },
  {
   "cell_type": "code",
   "execution_count": null,
   "metadata": {},
   "outputs": [],
   "source": [
    "#the data is processes in Javascript as stated: <!-- data processed in process/freebird/process-graphic.js -->"
   ]
  },
  {
   "cell_type": "code",
   "execution_count": null,
   "metadata": {},
   "outputs": [],
   "source": []
  }
 ],
 "metadata": {
  "kernelspec": {
   "display_name": "Python 3",
   "language": "python",
   "name": "python3"
  },
  "language_info": {
   "codemirror_mode": {
    "name": "ipython",
    "version": 3
   },
   "file_extension": ".py",
   "mimetype": "text/x-python",
   "name": "python",
   "nbconvert_exporter": "python",
   "pygments_lexer": "ipython3",
   "version": "3.8.2"
  }
 },
 "nbformat": 4,
 "nbformat_minor": 4
}
